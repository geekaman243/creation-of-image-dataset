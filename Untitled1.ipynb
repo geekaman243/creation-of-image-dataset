{
 "cells": [
  {
   "cell_type": "code",
   "execution_count": 72,
   "metadata": {},
   "outputs": [],
   "source": [
    "from __future__ import print_function\n",
    "import os, sys,glob\n",
    "from PIL import Image\n",
    "\n",
    "size = (128, 128)\n",
    "\n",
    "for infile in glob.glob('/home/abj2714/Pictures/Webcam/*.jpg'):\n",
    "    os.chdir(r'/home/abj2714/Pictures/imagedataset')\n",
    "    outfile = str(os.getcwd())+ infile.split(sep='/')[-1] + \".thumbnail\"\n",
    "    if infile != outfile:\n",
    "        try:\n",
    "            im = Image.open(infile)\n",
    "            im.thumbnail(size)\n",
    "            im.convert('L')\n",
    "            myImagePath=Path('/home/abj2714/Pictures/imagedataset')/infile.split(sep='/')[5]\n",
    "            im.save(myImagePath,\"JPEG\")\n",
    "        except IOError:\n",
    "            print(\"cannot create thumbnail for\", infile)\n"
   ]
  },
  {
   "cell_type": "code",
   "execution_count": 61,
   "metadata": {},
   "outputs": [
    {
     "name": "stdout",
     "output_type": "stream",
     "text": [
      "/home/abj2714/Pictures/imagedataset\n"
     ]
    }
   ],
   "source": [
    "print(os.getcwd())"
   ]
  },
  {
   "cell_type": "code",
   "execution_count": 74,
   "metadata": {},
   "outputs": [
    {
     "name": "stdout",
     "output_type": "stream",
     "text": [
      "2019-10-09-235802_3.jpg\n"
     ]
    }
   ],
   "source": [
    "print(infile.split(sep='/')[-1])"
   ]
  },
  {
   "cell_type": "code",
   "execution_count": 69,
   "metadata": {},
   "outputs": [
    {
     "data": {
      "text/plain": [
       "'/home/abj2714/Pictures/imagedataset2019-10-09-235802_3.jpg.thumbnail'"
      ]
     },
     "execution_count": 69,
     "metadata": {},
     "output_type": "execute_result"
    }
   ],
   "source": [
    "str(os.getcwd())+ infile.split(sep='/')[5] + \".thumbnail\""
   ]
  },
  {
   "cell_type": "code",
   "execution_count": 71,
   "metadata": {},
   "outputs": [
    {
     "data": {
      "text/plain": [
       "PosixPath('/home/abj2714/Pictures/imagedataset/2019-10-09-235802_3.jpg')"
      ]
     },
     "execution_count": 71,
     "metadata": {},
     "output_type": "execute_result"
    }
   ],
   "source": [
    "from pathlib import Path\n",
    "Path('/home/abj2714/Pictures/imagedataset')/infile.split(sep='/')[5]"
   ]
  },
  {
   "cell_type": "code",
   "execution_count": null,
   "metadata": {},
   "outputs": [],
   "source": []
  }
 ],
 "metadata": {
  "kernelspec": {
   "display_name": "Python 3",
   "language": "python",
   "name": "python3"
  },
  "language_info": {
   "codemirror_mode": {
    "name": "ipython",
    "version": 3
   },
   "file_extension": ".py",
   "mimetype": "text/x-python",
   "name": "python",
   "nbconvert_exporter": "python",
   "pygments_lexer": "ipython3",
   "version": "3.7.1"
  }
 },
 "nbformat": 4,
 "nbformat_minor": 2
}
